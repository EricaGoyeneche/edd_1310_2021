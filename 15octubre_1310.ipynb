{
  "nbformat": 4,
  "nbformat_minor": 0,
  "metadata": {
    "colab": {
      "name": "15octubre_1310.ipynb",
      "provenance": []
    },
    "kernelspec": {
      "name": "python3",
      "display_name": "Python 3"
    }
  },
  "cells": [
    {
      "cell_type": "markdown",
      "metadata": {
        "id": "q0lDMdDFBzeH"
      },
      "source": [
        "#MÓDULOS \n",
        "\n",
        "Son recursos reutilizables que contienen varias funciones que pueden ser importadas a tu código. \n",
        "\n"
      ]
    },
    {
      "cell_type": "code",
      "metadata": {
        "id": "-thd6_MLACjR",
        "outputId": "c21727a5-3676-436b-c8fb-8668b746fd31",
        "colab": {
          "base_uri": "https://localhost:8080/",
          "height": 51
        }
      },
      "source": [
        "\"\"\"  # Se comenta todo con tres comillas dobles \n",
        "import mi_modulo   #mi_modulo es una funcion y el import busca el archivo en el sistema de archivos \n",
        "\n",
        "\n",
        "x = mi_modulo.sumar( 4 , 7 )\n",
        "print( x )\n",
        "\n",
        "print(mi_modulo.multiplicar(3,5))\n",
        "\n",
        "\"\"\"\n"
      ],
      "execution_count": 4,
      "outputs": [
        {
          "output_type": "stream",
          "text": [
            "11\n",
            "15\n"
          ],
          "name": "stdout"
        }
      ]
    },
    {
      "cell_type": "code",
      "metadata": {
        "id": "Upw9vmkdKTCV",
        "outputId": "f579190f-ceb7-4e59-93ee-82fa85017f55",
        "colab": {
          "base_uri": "https://localhost:8080/",
          "height": 51
        }
      },
      "source": [
        "#Así se evita el incluir todo y poner solo lo que te interesa \n",
        "#Además disminuye el costo del código, admin de costos asegurando que solo se importa el código que va a usarse \n",
        "#Ahorrar tiempo y memoria, entre otras cosas \n",
        "\n",
        "from mi_modulo import sumar, dividir \n",
        "print(sumar(4,7))\n",
        "print(dividir(14,7))\n"
      ],
      "execution_count": 7,
      "outputs": [
        {
          "output_type": "stream",
          "text": [
            "11\n",
            "2.0\n"
          ],
          "name": "stdout"
        }
      ]
    },
    {
      "cell_type": "code",
      "metadata": {
        "id": "C5fgudfoOCr_",
        "outputId": "b326978d-fdbc-4756-d02e-d26ec8909534",
        "colab": {
          "base_uri": "https://localhost:8080/",
          "height": 35
        }
      },
      "source": [
        "from joke_generator  import generate \n",
        "generate ()"
      ],
      "execution_count": 12,
      "outputs": [
        {
          "output_type": "execute_result",
          "data": {
            "application/vnd.google.colaboratory.intrinsic+json": {
              "type": "string"
            },
            "text/plain": [
              "'What do vegetarian zombies eat? Grrrrrainnnnnssss.'"
            ]
          },
          "metadata": {
            "tags": []
          },
          "execution_count": 12
        }
      ]
    },
    {
      "cell_type": "code",
      "metadata": {
        "id": "7rnT5eZkLPQN",
        "outputId": "9e037eda-64cb-4784-b155-da6ad7640171",
        "colab": {
          "base_uri": "https://localhost:8080/",
          "height": 34
        }
      },
      "source": [
        "#Esto es para ponerle un alias a la variable para mejor manejo y mejor sintaxis \n",
        "\n",
        "import mi_modulo as patito\n",
        "print(patito.sumar(4,6))"
      ],
      "execution_count": 6,
      "outputs": [
        {
          "output_type": "stream",
          "text": [
            "10\n"
          ],
          "name": "stdout"
        }
      ]
    },
    {
      "cell_type": "markdown",
      "metadata": {
        "id": "mzXfw41bSQaq"
      },
      "source": [
        "# ARCHIVOS \n",
        "\n",
        "- open(str , str)  recibe dos strings \n",
        "  1. Nombre o ruta del archivo \n",
        "  2. Dos caracteres \n",
        "\n",
        "     - Modo de apertura del archivo\n",
        "     El cual puede ser (r, w, a  append si y solo si el archivo existe) \n",
        "     - Formato del archivo \n",
        "     El cual puede ser (t o b)  texto o    binario \n"
      ]
    },
    {
      "cell_type": "code",
      "metadata": {
        "id": "34721DXwSvBb"
      },
      "source": [
        "#Este es para escribir por eso wt\n",
        "archivo = open(\"saludo.txt\",\"wt\")   #Aquí creamos un archivo \n",
        "archivo.write(\"Hola mundo\\n Ola k ase\")\n",
        "archivo.close()\n"
      ],
      "execution_count": 14,
      "outputs": []
    },
    {
      "cell_type": "code",
      "metadata": {
        "id": "EZrg-zxZUZzU",
        "outputId": "057a5f34-e2fb-4af4-e07a-52b145addd9a",
        "colab": {
          "base_uri": "https://localhost:8080/",
          "height": 68
        }
      },
      "source": [
        "#Este es para leer por eso se pone rt\n",
        "otro = open('./sample_data/anscombe.json','rt')\n",
        "datos = otro.read()\n",
        "#print(datos)\n",
        "otro.close()\n",
        "\n",
        "\n",
        "\"\"\"\n",
        "arch = open('frutas.txt', 'rt')\n",
        "print(arch.readline())  #solo me regreso la primera linea \n",
        "print(arch.readline()) \n",
        "print(arch.readline())  \n",
        "print(arch.readline())  \n",
        "\"\"\"\n",
        "\n",
        "arch = open('frutas.txt','rt')\n",
        "list_frutas = arch.readlines()\n",
        "print(list_frutas)\n",
        "arch.close()\n",
        "\n",
        "arch.close()\n",
        "arch = open('frutas.txt', 'rt')\n",
        "list_frutas = arch.readline()\n",
        "print(list_frutas)\n",
        "arch.close()\n",
        "\n",
        "\n"
      ],
      "execution_count": 28,
      "outputs": [
        {
          "output_type": "stream",
          "text": [
            "['manzana, pera,  kiwi ,  aguacate \\n', 'limon  , naranaja\\n', 'sandia , papaya \\n']\n",
            "manzana, pera,  kiwi ,  aguacate \n",
            "\n"
          ],
          "name": "stdout"
        }
      ]
    }
  ]
}