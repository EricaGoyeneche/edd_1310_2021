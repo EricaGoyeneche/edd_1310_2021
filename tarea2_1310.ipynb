{
  "nbformat": 4,
  "nbformat_minor": 0,
  "metadata": {
    "colab": {
      "name": "tarea2_1310.ipynb",
      "provenance": [],
      "authorship_tag": "ABX9TyN6B9G+Hypv57m+XPFNeRoR",
      "include_colab_link": true
    },
    "kernelspec": {
      "name": "python3",
      "display_name": "Python 3"
    }
  },
  "cells": [
    {
      "cell_type": "markdown",
      "metadata": {
        "id": "view-in-github",
        "colab_type": "text"
      },
      "source": [
        "<a href=\"https://colab.research.google.com/github/EricaGoyeneche/edd_1310_2021/blob/master/tarea2_1310.ipynb\" target=\"_parent\"><img src=\"https://colab.research.google.com/assets/colab-badge.svg\" alt=\"Open In Colab\"/></a>"
      ]
    },
    {
      "cell_type": "markdown",
      "metadata": {
        "id": "fo1l1md4rp1o"
      },
      "source": [
        ""
      ]
    },
    {
      "cell_type": "code",
      "metadata": {
        "id": "Opb7YGoLuYK8",
        "outputId": "1c9e13b2-fabf-4bcb-f2e8-605c72e1b430",
        "colab": {
          "base_uri": "https://localhost:8080/",
          "height": 816
        }
      },
      "source": [
        "datos = 0\n",
        "valor = 0\n",
        "renglon = 0\n",
        "#numero = [] * 10\n",
        "numero = []\n",
        "arch = open('datos2.txt','rt')\n",
        "datos = arch.read()\n",
        "datos_1 = datos.replace(\" \" , \"\")  #Para quitar espacios en renglon\n",
        "arch.close()\n",
        "\n",
        "print('Datos cargados en memoria\\n')\n",
        "#print(datos_1)\n",
        "listota = range(len(datos_1))\n",
        "#listota = range(100)\n",
        "cuenta = 0\n",
        "#print(listota)\n",
        "interador=\"\"\n",
        "\n",
        "for i in listota :\n",
        "\n",
        "   if datos_1[i] == ',':\n",
        "        cuenta=1+cuenta    \n",
        "        valor=int(interador)\n",
        "        numero.append(valor)\n",
        "        interador=\"\"        \n",
        "   else :\n",
        "            interador=interador+datos_1[i]\n",
        "   if datos_1[i] == '\\n' :\n",
        "            renglon = renglon + 1\n",
        "#            print \"El renglon es :\", renglon\n",
        "            \n",
        "            if len(numero) != 0 :\n",
        "                print(\"El renglon es :\", renglon)\n",
        "                print(\"El Conjunto de valores es : \", numero)\n",
        " #              print \"El numero total de datos es : \", len(numero)\n",
        "#               print \"El numero maximo de datos es : \", max(numero)\n",
        "#               print \"El numero minimo de datos es : \", min(numero)\n",
        "                print(\"La suma total del renglon es : \", sum(numero))\n",
        "            else : \n",
        "                print(\"El renglon\", renglon, \"esta vacio\")\n",
        "                \n",
        "            cuenta = 0\n",
        "            interador=\"\"\n",
        "            numero = []\n",
        "\n",
        "       \n",
        "\n",
        "print(\"Fin\")\n"
      ],
      "execution_count": 7,
      "outputs": [
        {
          "output_type": "stream",
          "text": [
            "Datos cargados en memoria\n",
            "\n",
            "El renglon es : 1\n",
            "El Conjunto de valores es :  [1, 2, 1, 14, 29, 45, 5, 58, 56, 10, 29, 14, 88, 17, 4, 3, 1, 7, 12]\n",
            "La suma total del renglon es :  396\n",
            "El renglon 2 esta vacio\n",
            "El renglon 3 esta vacio\n",
            "El renglon es : 4\n",
            "El Conjunto de valores es :  [2, 23, 5, 8, 44, 2, 2, 13, 5, 9, 10, 16, 98, 76, 47, 1, 1, 3]\n",
            "La suma total del renglon es :  365\n",
            "El renglon 5 esta vacio\n",
            "El renglon 6 esta vacio\n",
            "El renglon es : 7\n",
            "El Conjunto de valores es :  [3, 87, 15, 11, 9, 7, 90, 97, 21, 3, 4, 1, 8, 88, 74, 32, 34, 43, 17, 77]\n",
            "La suma total del renglon es :  721\n",
            "El renglon 8 esta vacio\n",
            "El renglon 9 esta vacio\n",
            "El renglon es : 10\n",
            "El Conjunto de valores es :  [4, 46, 8, 1, 6, 2, 10, 37, 84, 4, 5, 9, 10, 2, 6, 31, 1, 1, 8, 4, 20, 33, 23, 18]\n",
            "La suma total del renglon es :  373\n",
            "El renglon 11 esta vacio\n",
            "El renglon es : 12\n",
            "El Conjunto de valores es :  [55, 3, 2, 29, 58, 83, 9, 17, 1, 43, 20, 93, 31, 46, 43, 77, 8, 44, 45, 17]\n",
            "La suma total del renglon es :  724\n",
            "El renglon 13 esta vacio\n",
            "El renglon 14 esta vacio\n",
            "El renglon es : 15\n",
            "El Conjunto de valores es :  [6, 74, 13, 44, 18, 45, 11, 93, 2, 1, 1, 1, 25, 1, 42, 18, 22, 44]\n",
            "La suma total del renglon es :  461\n",
            "El renglon 16 esta vacio\n",
            "El renglon 17 esta vacio\n",
            "El renglon es : 18\n",
            "El Conjunto de valores es :  [7, 88, 93, 6, 54, 2, 8, 1, 41, 86, 79, 33, 48, 9, 32, 63, 18, 7, 33, 2, 1, 16, 11]\n",
            "La suma total del renglon es :  738\n",
            "El renglon 19 esta vacio\n",
            "El renglon 20 esta vacio\n",
            "El renglon es : 21\n",
            "El Conjunto de valores es :  [8, 0, 22, 17, 30, 6, 2, 12, 47, 37, 34, 85, 47, 33, 2, 6, 8, 4, 5, 29, 30, 42, 77]\n",
            "La suma total del renglon es :  583\n",
            "El renglon 22 esta vacio\n",
            "El renglon 23 esta vacio\n",
            "El renglon es : 24\n",
            "El Conjunto de valores es :  [9, 2, 3, 4, 1, 1, 3, 6, 7, 7, 8, 9, 5, 1, 3, 4, 9, 10, 12, 3, 1, 5, 6, 22, 11, 0]\n",
            "La suma total del renglon es :  152\n",
            "El renglon 25 esta vacio\n",
            "El renglon 26 esta vacio\n",
            "Fin\n"
          ],
          "name": "stdout"
        }
      ]
    }
  ]
}