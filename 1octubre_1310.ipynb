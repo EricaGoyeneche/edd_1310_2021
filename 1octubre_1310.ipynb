{
  "nbformat": 4,
  "nbformat_minor": 0,
  "metadata": {
    "colab": {
      "name": "1octubre_1310.ipynb",
      "provenance": [],
      "authorship_tag": "ABX9TyO+mrcAZV8mzTQM7NJzLuxf",
      "include_colab_link": true
    },
    "kernelspec": {
      "name": "python3",
      "display_name": "Python 3"
    }
  },
  "cells": [
    {
      "cell_type": "markdown",
      "metadata": {
        "id": "view-in-github",
        "colab_type": "text"
      },
      "source": [
        "<a href=\"https://colab.research.google.com/github/EricaGoyeneche/edd_1310_2021/blob/master/1octubre_1310.ipynb\" target=\"_parent\"><img src=\"https://colab.research.google.com/assets/colab-badge.svg\" alt=\"Open In Colab\"/></a>"
      ]
    },
    {
      "cell_type": "markdown",
      "metadata": {
        "id": "r3O34SE_7qjV"
      },
      "source": [
        "##INTRO PYTHON 3\n",
        "###Variables \n",
        "Tipo dinámico\n",
        "escuela = 'FES Aragon'\n"
      ]
    },
    {
      "cell_type": "code",
      "metadata": {
        "id": "V7nXwlwY7LTg",
        "outputId": "0926651d-1434-4339-85c9-fb846efe3f99",
        "colab": {
          "base_uri": "https://localhost:8080/",
          "height": 187
        }
      },
      "source": [
        "escuela = 'FES Aragon'\n",
        "print(escuela)\n",
        "print('-----------')\n",
        "edad = 13\n",
        "estatura = 1.67\n",
        "fumador = True \n",
        "frase = \"\"\"  \n",
        "Esta es \n",
        "una \n",
        "frase \n",
        "de múltiples líneas\n",
        "y también es \n",
        "un tipo de dato \n",
        "\"\"\"\n",
        "print(frase)\n",
        "nombre = 'Jose'\n",
        "nombre_completo = \"Jose Sosa Cárdenas\"\n",
        "\n"
      ],
      "execution_count": 4,
      "outputs": [
        {
          "output_type": "stream",
          "text": [
            "FES Aragon\n",
            "-----------\n",
            "  \n",
            "Esta es \n",
            "una \n",
            "frase \n",
            "de múltiples líneas\n",
            "y también es \n",
            "un tipo de dato \n",
            "\n"
          ],
          "name": "stdout"
        }
      ]
    },
    {
      "cell_type": "markdown",
      "metadata": {
        "id": "jCn79aIA9xqW"
      },
      "source": [
        "#print \n",
        "con comas , \n",
        "\n",
        "con signo + \n",
        "\n",
        "con format()\n",
        "\n",
        "con el operador f\"\""
      ]
    },
    {
      "cell_type": "code",
      "metadata": {
        "id": "anCyGtV7-AFE",
        "outputId": "14a93f88-dde7-4056-a23e-3bf65395d871",
        "colab": {
          "base_uri": "https://localhost:8080/",
          "height": 34
        }
      },
      "source": [
        "#separacion por comas , \n",
        "print (nombre,edad)\n"
      ],
      "execution_count": 5,
      "outputs": [
        {
          "output_type": "stream",
          "text": [
            "Jose 13\n"
          ],
          "name": "stdout"
        }
      ]
    },
    {
      "cell_type": "code",
      "metadata": {
        "id": "tFO4N3tJ-7Ra",
        "outputId": "39c794c5-6ca5-4317-f370-909b5a3ab957",
        "colab": {
          "base_uri": "https://localhost:8080/",
          "height": 51
        }
      },
      "source": [
        "# + concatena solo STRING hay que convertir los de nunmero\n",
        "print(nombre+str(edad))\n",
        "print (nombre+nombre_completo)"
      ],
      "execution_count": 9,
      "outputs": [
        {
          "output_type": "stream",
          "text": [
            "Jose13\n",
            "JoseJose Sosa Cárdenas\n"
          ],
          "name": "stdout"
        }
      ]
    },
    {
      "cell_type": "code",
      "metadata": {
        "id": "X-5KoPT1AEEc",
        "outputId": "d6cfb048-e796-4dec-dd31-7fe5d3c22793",
        "colab": {
          "base_uri": "https://localhost:8080/",
          "height": 68
        }
      },
      "source": [
        "#Con formato -> Su nombre es Jose y su edad es de 13 años. \n",
        "print('Su nombre es',nombre,'y su edad es de',edad,'años')  #No es con formato y es muy largo pero está correcto \n",
        "print('Su nombre es {0} y su edad es de {1} años'.format(nombre,edad) )\n",
        "print('Su nombre es {1} y su edad es de {0} años'.format(nombre,edad) )\n"
      ],
      "execution_count": 17,
      "outputs": [
        {
          "output_type": "stream",
          "text": [
            "Su nombre es Jose y su edad es de 13 años\n",
            "Su nombre es Jose y su edad es de 13 años\n",
            "Su nombre es 13 y su edad es de Jose años\n"
          ],
          "name": "stdout"
        }
      ]
    },
    {
      "cell_type": "code",
      "metadata": {
        "id": "riCaj8c7BnLA",
        "outputId": "d562bc45-7d6a-40fb-b37a-2cc21bb50a1c",
        "colab": {
          "base_uri": "https://localhost:8080/",
          "height": 34
        }
      },
      "source": [
        "#Con formato con el operador f\"\" \n",
        "print(f\"Su nombre es {nombre} y su edad es de {edad} años\")"
      ],
      "execution_count": 18,
      "outputs": [
        {
          "output_type": "stream",
          "text": [
            "Su nombre es Jose y su edad es de 13 años\n"
          ],
          "name": "stdout"
        }
      ]
    },
    {
      "cell_type": "markdown",
      "metadata": {
        "id": "ZqfH1dpQCFze"
      },
      "source": [
        "##Carácter de escape \n",
        "\\n salto de línea \n",
        "\n",
        "\\t tabulador \n",
        "\n",
        "\\a beep\n",
        "\n",
        "\\ cuando queremos que se imprima comillas \n",
        "\n"
      ]
    },
    {
      "cell_type": "code",
      "metadata": {
        "id": "8kP_xAnQDNBF",
        "outputId": "5a55055e-ec41-4d14-98e6-f2889894f3a3",
        "colab": {
          "base_uri": "https://localhost:8080/",
          "height": 51
        }
      },
      "source": [
        "\"\"\"\n",
        "Esto es \n",
        "un comentario \n",
        "de múltiples líneas \n",
        "tan tan \n",
        "\n",
        "\"\"\"\n",
        "print(f\"\\tMi nombre es\\n\\t\\t {nombre}\")"
      ],
      "execution_count": 20,
      "outputs": [
        {
          "output_type": "stream",
          "text": [
            "\tMi nombre es\n",
            "\t\t Jose\n"
          ],
          "name": "stdout"
        }
      ]
    },
    {
      "cell_type": "markdown",
      "metadata": {
        "id": "03oNcz1WDfB_"
      },
      "source": [
        "#Ayuda de tipos de datos de python\n",
        "\n",
        "dir() ayuda con lo métodos de datos\n",
        " \n",
        "help() este también pero con mas detalle\n",
        "\n",
        "\n",
        "Tipos de datos \n",
        "str \n",
        "int \n",
        "float\n",
        "bool\n",
        "list \n",
        "dict \n",
        "set\n"
      ]
    },
    {
      "cell_type": "code",
      "metadata": {
        "id": "k2RlN7LgELgE"
      },
      "source": [
        "help(str)\n"
      ],
      "execution_count": null,
      "outputs": []
    },
    {
      "cell_type": "code",
      "metadata": {
        "id": "d7y7HpjiFCK6",
        "outputId": "2d6b9b50-e26c-418c-f9a0-85d0fcd6628e",
        "colab": {
          "base_uri": "https://localhost:8080/",
          "height": 51
        }
      },
      "source": [
        "print(nombre_completo.upper(), end=\"-------\")\n",
        "print(nombre_completo.capitalize())\n",
        "print(nombre_completo.title())"
      ],
      "execution_count": 34,
      "outputs": [
        {
          "output_type": "stream",
          "text": [
            "JOSE SOSA CÁRDENAS-------Jose sosa cárdenas\n",
            "Jose Sosa Cárdenas\n"
          ],
          "name": "stdout"
        }
      ]
    },
    {
      "cell_type": "code",
      "metadata": {
        "id": "uT8Bb8lTF1cw"
      },
      "source": [
        "help(print)"
      ],
      "execution_count": null,
      "outputs": []
    },
    {
      "cell_type": "markdown",
      "metadata": {
        "id": "w2_Pdoc5G4ur"
      },
      "source": [
        "##Clase String \n",
        "\n",
        "Es manejada como un arreglo(c o java) o lista (python)\n",
        "\n",
        "`telefono = \"Huawei mate 30 pro\"` (Arreglo o lista de 18 donde meterá cada uno de los caracteres) \n",
        "\n",
        "print(telefono[]) \n",
        "\n",
        "\n"
      ]
    },
    {
      "cell_type": "markdown",
      "metadata": {
        "id": "iwgtlKjMH-dU"
      },
      "source": [
        "#Slicing (rebanado)\n",
        "[] selector \n",
        "[ini:stop:incremento] \n",
        "\n",
        "el stop no se incluye termina en el valor anterior \n",
        "\n",
        "el valor por defecto del stop es len(str)\n"
      ]
    },
    {
      "cell_type": "code",
      "metadata": {
        "id": "1LX4LkSgHjSl",
        "outputId": "b27377e3-22b6-4625-f8a9-c73aad2e9fdd",
        "colab": {
          "base_uri": "https://localhost:8080/",
          "height": 119
        }
      },
      "source": [
        "telefono = \"Huawei mate 30 pro\"\n",
        "print (telefono[5])\n",
        "print(telefono[7:11:1])\n",
        "print(telefono[:11:])\n",
        "\n",
        "#incremento negativo \n",
        "print(telefono[-5::-1])\n",
        "#slacing negativo \n",
        "print(telefono[-3::1])\n",
        "ini = -3\n",
        "inc =1\n",
        "print(telefono[ini::inc])\n"
      ],
      "execution_count": 44,
      "outputs": [
        {
          "output_type": "stream",
          "text": [
            "i\n",
            "mate\n",
            "Huawei mate\n",
            "03 etam iewauH\n",
            "pro\n",
            "pro\n"
          ],
          "name": "stdout"
        }
      ]
    },
    {
      "cell_type": "markdown",
      "metadata": {
        "id": "ni2KWJNPM7cg"
      },
      "source": [
        "##Funciones de String (str)\n",
        "\n",
        "Existen métodos muy utiles en esta clase \n"
      ]
    },
    {
      "cell_type": "code",
      "metadata": {
        "id": "b1E_2G90NE65",
        "outputId": "20bf588d-0732-43c2-ef25-fae98319cfaa",
        "colab": {
          "base_uri": "https://localhost:8080/",
          "height": 340
        }
      },
      "source": [
        "facultad = '    facultad de estudios superiores aragon      \\n' \n",
        "print(facultad)\n",
        "#.count nos cuenta caracteres en la cadena     '\n",
        "print(facultad.count('u'))\n",
        "#.find busca el índice del substring o sea en que posicion está  \n",
        "print(facultad.find('s'))\n",
        "# .strip remueve espacios en blanco al principio y al final y saltos de línea \n",
        "print(facultad.strip())\n",
        "#Número de elementos con len\n",
        "print(len(facultad))\n",
        "#Corta con base a la letra que quieras \n",
        "print(facultad)\n",
        "print(facultad.strip().split(\" \"))  #concatenando\n",
        "\n",
        "print('-----------')#copiar cadenas \n",
        "otra_cadena = facultad \n",
        "print(otra_cadena)\n",
        "otra_cadena = 'FES Aragon'\n",
        "print(facultad)\n",
        "print(otra_cadena)\n",
        "\n",
        "\n",
        "\n",
        "#copiar listas \n",
        "colores = ['rojo','verde']\n",
        "otra = colores \n",
        "print(colores)\n",
        "print(otra)\n",
        "#se modifican las dos \n",
        "otra.append('rosa')\n",
        "print(colores)\n",
        "print(otra)"
      ],
      "execution_count": 67,
      "outputs": [
        {
          "output_type": "stream",
          "text": [
            "    facultad de estudios superiores aragon      \n",
            "\n",
            "3\n",
            "17\n",
            "facultad de estudios superiores aragon\n",
            "49\n",
            "    facultad de estudios superiores aragon      \n",
            "\n",
            "['facultad', 'de', 'estudios', 'superiores', 'aragon']\n",
            "-----------\n",
            "    facultad de estudios superiores aragon      \n",
            "\n",
            "    facultad de estudios superiores aragon      \n",
            "\n",
            "FES Aragon\n",
            "['rojo', 'verde']\n",
            "['rojo', 'verde']\n",
            "['rojo', 'verde', 'rosa']\n",
            "['rojo', 'verde', 'rosa']\n"
          ],
          "name": "stdout"
        }
      ]
    }
  ]
}