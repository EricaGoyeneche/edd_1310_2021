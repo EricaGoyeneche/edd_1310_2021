{
  "nbformat": 4,
  "nbformat_minor": 0,
  "metadata": {
    "colab": {
      "name": "tarea3_1013.ipynb",
      "provenance": [],
      "authorship_tag": "ABX9TyNO2U2R6nHQD+SlTL+JQjTD",
      "include_colab_link": true
    },
    "kernelspec": {
      "name": "python3",
      "display_name": "Python 3"
    }
  },
  "cells": [
    {
      "cell_type": "markdown",
      "metadata": {
        "id": "view-in-github",
        "colab_type": "text"
      },
      "source": [
        "<a href=\"https://colab.research.google.com/github/EricaGoyeneche/edd_1310_2021/blob/master/tarea3_1013.ipynb\" target=\"_parent\"><img src=\"https://colab.research.google.com/assets/colab-badge.svg\" alt=\"Open In Colab\"/></a>"
      ]
    },
    {
      "cell_type": "code",
      "metadata": {
        "id": "_su99lF1AzZ0",
        "outputId": "bbfe385b-423a-4dc7-d2be-a8598c904c8c",
        "colab": {
          "base_uri": "https://localhost:8080/",
          "height": 272
        }
      },
      "source": [
        "#Declarando clase\n",
        "class persona: \n",
        "  def __init__(self,nom,ed,est): #Método constructor \n",
        "        self.__nombre= nom      #Atributos\n",
        "        self.__edad= ed\n",
        "        self.__estatura= est\n",
        "  def to_string( self ):   \n",
        "   return \"Nombre:\"+self.__nombre+\"\\nEdad:\"+self.__edad+\"\\nEstatura:\"+self.__estatura\n",
        "  \n",
        "  def dormir(self):\n",
        "      print(\"Tengo sueño, ya voy a dormir\")    \n",
        "\n",
        "  def comer (self):\n",
        "      print(\"Tengo hambre, voy a comer\")\n",
        "\n",
        "per = persona(\"Erica\",\"20\",\"1.54\")   \n",
        "print(per.to_string())\n",
        "print(per.dormir())\n",
        "print(per.comer())\n",
        "\n",
        "print(\"------------CLASE CELULAR------\")\n",
        "\n",
        "class celular: \n",
        "  def __init__(self,m,mo,em): \n",
        "        self.__marca = m\n",
        "        self.__modelo = mo\n",
        "        self.__espacio_memoria = em\n",
        "\n",
        "  def to_string( self ):   \n",
        "   return \"Marca: \"+self.__marca+\"\\nModelo: \"+self.__modelo+\"\\nEspacio en memoria: \"+self.__espacio_memoria\n",
        "  \n",
        "  def llamar(self):\n",
        "      print(\"Riiiing.... Riiiiing\")    \n",
        "\n",
        "  def poner_alarma(self):\n",
        "      print(\"Buenos días solecito, despierta\")\n",
        "\n",
        "cel = celular(\"Iphone\",\"XR\",\"128GB\")   \n",
        "print(cel.to_string())\n",
        "print(cel.llamar())\n",
        "print(cel.poner_alarma())\n",
        "\n"
      ],
      "execution_count": 22,
      "outputs": [
        {
          "output_type": "stream",
          "text": [
            "Nombre:Erica\n",
            "Edad:20\n",
            "Estatura:1.54\n",
            "Tengo sueño, ya voy a dormir\n",
            "None\n",
            "Tengo hambre, voy a comer\n",
            "None\n",
            "------------CLASE CELULAR------\n",
            "Marca: Iphone\n",
            "Modelo: XR\n",
            "Espacio en memoria: 128GB\n",
            "Riiiing.... Riiiiing\n",
            "None\n",
            "Buenos días solecito, despierta\n",
            "None\n"
          ],
          "name": "stdout"
        }
      ]
    }
  ]
}