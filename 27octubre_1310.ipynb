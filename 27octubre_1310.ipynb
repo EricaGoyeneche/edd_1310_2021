{
  "nbformat": 4,
  "nbformat_minor": 0,
  "metadata": {
    "colab": {
      "name": "27octubre_1310.ipynb",
      "provenance": [],
      "authorship_tag": "ABX9TyORHWCjnIWxnPW8Y+UTQshr",
      "include_colab_link": true
    },
    "kernelspec": {
      "name": "python3",
      "display_name": "Python 3"
    }
  },
  "cells": [
    {
      "cell_type": "markdown",
      "metadata": {
        "id": "view-in-github",
        "colab_type": "text"
      },
      "source": [
        "<a href=\"https://colab.research.google.com/github/EricaGoyeneche/edd_1310_2021/blob/master/27octubre_1310.ipynb\" target=\"_parent\"><img src=\"https://colab.research.google.com/assets/colab-badge.svg\" alt=\"Open In Colab\"/></a>"
      ]
    },
    {
      "cell_type": "code",
      "metadata": {
        "id": "ncKO9g9_Bo2N",
        "outputId": "a22dd3e8-4104-459d-da65-da5d1f66d6d6",
        "colab": {
          "base_uri": "https://localhost:8080/",
          "height": 68
        }
      },
      "source": [
        "class Computadora:\n",
        "    def __init__( self , m , p):\n",
        "        self.__marca = m  #Si a una variable o atributo de clase le ponemos __ lo estamos haciendo privado \n",
        "        self.__procesador = p\n",
        "\n",
        "    def to_string( self ):\n",
        "        return \"Marca:\"+self.__marca+\" Procesador:\"+self.__procesador\n",
        "\n",
        "    def set_marca(self, m):  #Encapsulamiento tipo java, estos son métodos de acceso publicos \n",
        "      self.__marca = m \n",
        "\n",
        "    def get_marca(self):\n",
        "      return self.__marca\n",
        "\n",
        "    def set_procesador(self, p):\n",
        "      self.__procesador = p \n",
        "\n",
        "    def get_procesador(self):\n",
        "       return self.__procesador  \n",
        "\n",
        "mi_pc = Computadora(\"Toshiba\",\"Intel i7\")\n",
        "print(mi_pc.to_string())\n",
        "mi_pc.__marca=\"HP \" #Intentando cambiar el valor privado pero no se podrá porque lo tenemos privado \n",
        "mi_pc.set_marca('HP')  #Así con el set ya se puede modificar \n",
        "print(mi_pc.to_string())\n",
        "#print(mi_pc.__procesador) Eso marca error \n",
        "print(mi_pc.get_procesador())\n",
        "\n",
        "\n",
        "#Los encapsulamientos primero hacemos lo atributos privados con el __ y luego hacemos los métodos de acceso publicos para poder acceder a ellos\n",
        "#ASÍ SE ENCAPUSULA TIPO JAVA "
      ],
      "execution_count": 6,
      "outputs": [
        {
          "output_type": "stream",
          "text": [
            "Marca:Toshiba Procesador:Intel i7\n",
            "Marca:HP Procesador:Intel i7\n",
            "Intel i7\n"
          ],
          "name": "stdout"
        }
      ]
    },
    {
      "cell_type": "markdown",
      "metadata": {
        "id": "qHtws02_EF1W"
      },
      "source": [
        "#ENCAPSULAMIENTO PYTHON 3 \n",
        "\n",
        "##Tradicional tipo Java \n",
        "    void setAtributo(val)\n",
        "    tipo getAtributo()\n",
        "##Estilo python 3 \n",
        "Utilizando decoradores \n",
        "- @property \n",
        "- @atributo.setter "
      ]
    },
    {
      "cell_type": "code",
      "metadata": {
        "id": "GK2-ZrCxHuxJ",
        "outputId": "1e0d2140-3f39-4257-8ef9-497371157ba7",
        "colab": {
          "base_uri": "https://localhost:8080/",
          "height": 102
        }
      },
      "source": [
        "class Computadora:\n",
        "  def __init__(self, m, p):\n",
        "      self.marca = m  #se manda a llamar el decorador @property \n",
        "      self.procesador = p \n",
        "  @property   #Se declara como atributo privado y funciona como método get \n",
        "  def marca (self):\n",
        "    return self.__marca \n",
        "\n",
        "  @marca.setter #Estás indicando el siguiente método que en realidad será un setter \n",
        "  def marca(self, m):\n",
        "    print(\"En el setter de MARCA\")\n",
        "    self.__marca = m \n",
        "\n",
        "  @property\n",
        "  def procesador (self):\n",
        "    return self.__procesador \n",
        "\n",
        "  @procesador.setter \n",
        "  def procesador (self, p):\n",
        "    print(\"En el método set de procesador\")  #Indicando las veces que se manda a llamar el método set\n",
        "    self.__procesador = p \n",
        "\n",
        "  def to_string(self):\n",
        "    return \"Marca:\" + self.marca + \" Procesador:\" + self.procesador\n",
        "\n",
        "\n",
        "mi_pc2 = Computadora(\"Mac Book pro\" , \"Intel i7\")\n",
        "print(mi_pc2.to_string())\n",
        "\n",
        "#Llamando métodos\n",
        "mi_pc2.marca = \"Dell\"  #Así modificamos la marca con el set marca \n",
        "print(mi_pc2.to_string())\n"
      ],
      "execution_count": 14,
      "outputs": [
        {
          "output_type": "stream",
          "text": [
            "En el setter de MARCA\n",
            "En el método set de procesador\n",
            "Marca:Mac Book pro Procesador:Intel i7\n",
            "En el setter de MARCA\n",
            "Marca:Dell Procesador:Intel i7\n"
          ],
          "name": "stdout"
        }
      ]
    },
    {
      "cell_type": "code",
      "metadata": {
        "id": "8TS3fcesQbvI",
        "outputId": "d48b2010-8aff-402b-f9f3-338b98b683f9",
        "colab": {
          "base_uri": "https://localhost:8080/",
          "height": 85
        }
      },
      "source": [
        "#HERENCIA se logra pasando la clase base a la declaración \n",
        "class servidorEmpresarial(Computadora): #Con esto ya heredé los atributos y métodos de clase computadora \n",
        "   def __init__(self):\n",
        "     print(\"Hola servidor\") \n",
        "\n",
        "server = servidorEmpresarial ()\n",
        "server.marca = \"Sun Micreo Systems\"\n",
        "server.procesador = \"Intel i7\"\n",
        "print(server.to_string())"
      ],
      "execution_count": 19,
      "outputs": [
        {
          "output_type": "stream",
          "text": [
            "Hola servidor\n",
            "En el setter de MARCA\n",
            "En el método set de procesador\n",
            "Marca:Sun Micreo Systems Procesador:Intel i7\n"
          ],
          "name": "stdout"
        }
      ]
    }
  ]
}