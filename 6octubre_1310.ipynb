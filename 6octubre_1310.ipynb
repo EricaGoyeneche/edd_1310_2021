{
  "nbformat": 4,
  "nbformat_minor": 0,
  "metadata": {
    "colab": {
      "name": "6octubre_1310.ipynb",
      "provenance": [],
      "authorship_tag": "ABX9TyOXpjjMHnkDgWAr9lFiDSOo",
      "include_colab_link": true
    },
    "kernelspec": {
      "name": "python3",
      "display_name": "Python 3"
    }
  },
  "cells": [
    {
      "cell_type": "markdown",
      "metadata": {
        "id": "view-in-github",
        "colab_type": "text"
      },
      "source": [
        "<a href=\"https://colab.research.google.com/github/EricaGoyeneche/edd_1310_2021/blob/master/6octubre_1310.ipynb\" target=\"_parent\"><img src=\"https://colab.research.google.com/assets/colab-badge.svg\" alt=\"Open In Colab\"/></a>"
      ]
    },
    {
      "cell_type": "code",
      "metadata": {
        "id": "0JbZF-Q0p7K3",
        "outputId": "cd8aded1-1969-4c27-8f3f-dfaa9119b945",
        "colab": {
          "base_uri": "https://localhost:8080/",
          "height": 340
        }
      },
      "source": [
        "#String continuación \n",
        "\n",
        "numeros_txt = \"1,2,3,4,5, 35,15,12\"\n",
        "print(numeros_txt)\n",
        "numeros_txt=numeros_txt.lstrip().split(',')\n",
        "print(numeros_txt)\n",
        "\n",
        "for j in range(len(numeros_txt)):\n",
        " numeros_txt[j] = int(numeros_txt[j].strip())\n",
        "\n",
        "print(numeros_txt)\n",
        "\n",
        "#En python se utilizan tabuladores para las estructura de código \n",
        "#En python tu indicas donde empieza el iterador \n",
        "\n",
        "#funcion range que genera un iteraodr\n",
        "#range(inicio, stop, icremento)\n",
        "print(range(0,10,2))\n",
        "rango = range (1, 10, 2)\n",
        "for x in rango:\n",
        "  print(x)\n",
        "\n",
        "rango = range(10)\n",
        "for x in rango:\n",
        "  print(x)\n"
      ],
      "execution_count": null,
      "outputs": [
        {
          "output_type": "stream",
          "text": [
            "1,2,3,4,5, 35,15,12\n",
            "['1', '2', '3', '4', '5', ' 35', '15', '12']\n",
            "[1, 2, 3, 4, 5, 35, 15, 12]\n",
            "range(0, 10, 2)\n",
            "1\n",
            "3\n",
            "5\n",
            "7\n",
            "9\n",
            "0\n",
            "1\n",
            "2\n",
            "3\n",
            "4\n",
            "5\n",
            "6\n",
            "7\n",
            "8\n",
            "9\n"
          ],
          "name": "stdout"
        }
      ]
    },
    {
      "cell_type": "markdown",
      "metadata": {
        "id": "DSBZjajYw1-H"
      },
      "source": [
        "#Listas\n",
        "- Mutables\n",
        "\n",
        "- Se declaran con [  ]\n",
        "\n",
        "- Selector [ int ]\n",
        "\n",
        "- Puede ser de cualquier tipo y mezclado (str, int, etc)\n",
        "\n",
        "#Tuplas\n",
        "\n",
        "- NO mutables \n",
        "\n",
        "- Se declaran con (  )\n",
        "\n",
        "- Selector [  int  ]\n",
        "\n",
        "\n",
        "#diccionarios\n",
        "\n",
        "\n",
        "- Son conjuntos de pares  llaves:valor \n",
        "\n",
        "- Son mutables \n",
        "\n",
        "- Equivalentes a los objetos JSON de JS \n",
        "\n",
        "#conjuntos\n",
        "\n",
        "- Representación de la teoría de conjuntos \n"
      ]
    },
    {
      "cell_type": "code",
      "metadata": {
        "id": "U9U1D7J3xtAk",
        "outputId": "6aa5d10c-22ba-4113-daf2-9b29c948f7f7",
        "colab": {
          "base_uri": "https://localhost:8080/",
          "height": 153
        }
      },
      "source": [
        "#Listas  Equivalentes a los arreglos en otros lenguajes de programación \n",
        "frutas = ['Pera', 'manzana', 'fresa', 'kiwi','naranja'] #Así se declara\n",
        "print(frutas)\n",
        "cosas = ['cuaderno', 2, 3.1416, True, False]\n",
        "print(cosas)\n",
        "frutas[2] = 'Fresa'     #Le reasignamos otro valor al 2 también puede ser con capitalize para mayusculas \n",
        "print(frutas)\n",
        "\n",
        "#agregar a lista \n",
        "frutas.append('Aguacate')  #Append agrega al final \n",
        "print(frutas)\n",
        "frutas.insert(2,\"Sandía\")  #Agrega pero con una posición en específico \n",
        "print(frutas)\n",
        "\n",
        "#concatenar\n",
        "fecha = ['06','10','2020'] #formato fecha 06/10/2020 \n",
        "print(fecha)\n",
        "fecha_str =\"/\".join(fecha)  #concatena y da formato \n",
        "print(fecha_str)\n",
        "\n",
        "\n",
        "\n",
        "\n",
        "\n"
      ],
      "execution_count": null,
      "outputs": [
        {
          "output_type": "stream",
          "text": [
            "['Pera', 'manzana', 'fresa', 'kiwi', 'naranja']\n",
            "['cuaderno', 2, 3.1416, True, False]\n",
            "['Pera', 'manzana', 'Fresa', 'kiwi', 'naranja']\n",
            "['Pera', 'manzana', 'Fresa', 'kiwi', 'naranja', 'Aguacate']\n",
            "['Pera', 'manzana', 'Sandía', 'Fresa', 'kiwi', 'naranja', 'Aguacate']\n",
            "['06', '10', '2020']\n",
            "06/10/2020\n",
            "['cuaderno', 2, 3.1416, True, False]\n"
          ],
          "name": "stdout"
        }
      ]
    },
    {
      "cell_type": "code",
      "metadata": {
        "id": "a2eYY7sL2_X0"
      },
      "source": [
        ""
      ],
      "execution_count": null,
      "outputs": []
    },
    {
      "cell_type": "code",
      "metadata": {
        "id": "3-pbaPld3CUM",
        "outputId": "95858b20-79ff-48f9-f966-f1c503ce2976",
        "colab": {
          "base_uri": "https://localhost:8080/",
          "height": 187
        }
      },
      "source": [
        "\n",
        "#Eliminar elementos pop y remove\n",
        "cosas = ['cuaderno', 2, 3.1416, True, False]\n",
        "print(cosas)\n",
        "cosas.append(\"Libro\")\n",
        "cosas.append(\"Lápiz\")\n",
        "print(cosas)\n",
        "algo = cosas.pop()\n",
        "print(cosas)\n",
        "\n",
        "algo = cosas.pop(2)  #Quitamos de una posición en específico \n",
        "print(cosas)\n",
        "print(algo)\n",
        "\n",
        "cosas.remove(2)\n",
        "print(cosas)\n",
        "\n",
        "#Vaciar una lista \n",
        "cosas.clear()\n",
        "print(cosas)\n",
        "\n",
        "#Ordenar las listas\n",
        "print(frutas)\n",
        "frutas.sort()  #Ordenó alfabeticamente o datos congruentes \n",
        "print(frutas)\n",
        "cosas.sort()\n",
        "print(cosas)\n",
        "\n",
        "\n",
        "\n"
      ],
      "execution_count": null,
      "outputs": [
        {
          "output_type": "stream",
          "text": [
            "['cuaderno', 2, 3.1416, True, False]\n",
            "['cuaderno', 2, 3.1416, True, False, 'Libro', 'Lápiz']\n",
            "['cuaderno', 2, 3.1416, True, False, 'Libro']\n",
            "['cuaderno', 2, True, False, 'Libro']\n",
            "3.1416\n",
            "['cuaderno', True, False, 'Libro']\n",
            "[]\n",
            "['Aguacate', 'Fresa', 'Pera', 'Sandía', 'kiwi', 'manzana', 'naranja']\n",
            "['Aguacate', 'Fresa', 'Pera', 'Sandía', 'kiwi', 'manzana', 'naranja']\n",
            "[]\n"
          ],
          "name": "stdout"
        }
      ]
    },
    {
      "cell_type": "code",
      "metadata": {
        "id": "98WABczN6yXj",
        "outputId": "17d10cb7-2a08-45a4-8311-7e3fbef19209",
        "colab": {
          "base_uri": "https://localhost:8080/",
          "height": 153
        }
      },
      "source": [
        "#slicing te regresa la rebanada seleccionada pero no modifica el pastel \n",
        "cosas = ['cuaderno', 2, 3.1416, True, False]\n",
        "print(cosas[3:5:1])\n",
        "print(cosas)\n",
        "print(cosas[0][3:5:1])\n",
        "\n",
        "numeros = [1,2,3,4,5,6,7,8,9,10,11,12,13,14,15]\n",
        "print(numeros)\n",
        "print(numeros[7:12:1]) #El tope es uno después para que se imprima uno antes porque el conteo inicia desde el cero  \n",
        "\n",
        "#Sustituir rebanadas -2,-2  -> 1,2,3,4,5,6,7,-2,-2,13,14,15\n",
        "numeros[8:13] = [-2,-2]\n",
        "print(numeros)\n",
        "\n",
        "#Preguntar por existencia \n",
        "print(-2 in numeros)  #Hay un -2 en numeros?\n",
        "print(100 in numeros)"
      ],
      "execution_count": 54,
      "outputs": [
        {
          "output_type": "stream",
          "text": [
            "[True, False]\n",
            "['cuaderno', 2, 3.1416, True, False]\n",
            "de\n",
            "[1, 2, 3, 4, 5, 6, 7, 8, 9, 10, 11, 12, 13, 14, 15]\n",
            "[8, 9, 10, 11, 12]\n",
            "[1, 2, 3, 4, 5, 6, 7, 8, -2, -2, 14, 15]\n",
            "True\n",
            "False\n"
          ],
          "name": "stdout"
        }
      ]
    },
    {
      "cell_type": "markdown",
      "metadata": {
        "id": "bepoKt_y-g2X"
      },
      "source": [
        "#Listas multidimensión\n",
        "\n",
        "Listas dentro de listas \n"
      ]
    },
    {
      "cell_type": "code",
      "metadata": {
        "id": "K27vetum-oQq",
        "outputId": "52c3b061-5205-4c97-93a5-f98a7f75eb0b",
        "colab": {
          "base_uri": "https://localhost:8080/",
          "height": 173
        }
      },
      "source": [
        "computadoras = ['HP','Mac Book Pro 17\"','Mate book','Lenovo legion']\n",
        "oss = ['Windows 10', 'Linux', 'Android', 'iOs']\n",
        "\n",
        "#lista de dos dimensiones \n",
        "computo = [computadoras, oss]\n",
        "print(computo[0])\n",
        "print(computo[1])\n",
        "print(computo[0][2][0:5])\n",
        "print(computo[0][3][5: :-1])\n",
        "print(\"Linux\" in computo[1])\n",
        "dbms = [['MSQL','Open Source', False] ,['MS SQL Server','De paga', True]]\n",
        "computo.append(dbms)\n",
        "print(computo)\n",
        "print(computo[2][0][0])\n",
        "print(computo[2][1][1])"
      ],
      "execution_count": 75,
      "outputs": [
        {
          "output_type": "stream",
          "text": [
            "['HP', 'Mac Book Pro 17\"', 'Mate book', 'Lenovo legion']\n",
            "['Windows 10', 'Linux', 'Android', 'iOs']\n",
            "Mate \n",
            "ovoneL\n",
            "True\n",
            "[['HP', 'Mac Book Pro 17\"', 'Mate book', 'Lenovo legion'], ['Windows 10', 'Linux', 'Android', 'iOs'], [['MSQL', 'Open Source', False], ['MS SQL Server', 'De paga', True]]]\n",
            "MSQL\n",
            "De paga\n"
          ],
          "name": "stdout"
        }
      ]
    }
  ]
}