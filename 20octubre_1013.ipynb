{
  "nbformat": 4,
  "nbformat_minor": 0,
  "metadata": {
    "colab": {
      "name": "20octubre_1013.ipynb",
      "provenance": [],
      "authorship_tag": "ABX9TyO1sHK+zTQohKI6LsTA0PX4",
      "include_colab_link": true
    },
    "kernelspec": {
      "name": "python3",
      "display_name": "Python 3"
    }
  },
  "cells": [
    {
      "cell_type": "markdown",
      "metadata": {
        "id": "view-in-github",
        "colab_type": "text"
      },
      "source": [
        "<a href=\"https://colab.research.google.com/github/EricaGoyeneche/edd_1310_2021/blob/master/20octubre_1013.ipynb\" target=\"_parent\"><img src=\"https://colab.research.google.com/assets/colab-badge.svg\" alt=\"Open In Colab\"/></a>"
      ]
    },
    {
      "cell_type": "code",
      "metadata": {
        "id": "h1LdWOj7xWek"
      },
      "source": [
        "\"\"\"\n",
        "archivo = open('numeros.txt','rt')\n",
        "for linea in archivo.readlines()[:3:]:\n",
        "  for trunc in linea.split(','):\n",
        "    print(int(trunc.strip()))\n",
        "    \"\"\""
      ],
      "execution_count": null,
      "outputs": []
    },
    {
      "cell_type": "code",
      "metadata": {
        "id": "j64Vinyg2unz"
      },
      "source": [
        ""
      ],
      "execution_count": null,
      "outputs": []
    },
    {
      "cell_type": "markdown",
      "metadata": {
        "id": "E38sU8as2xG9"
      },
      "source": [
        "#SINTAXIS DEL FOR EN PYTHON \n",
        "\n",
        "Dos versiones de for \n",
        "\n",
        "- range \n",
        "\n",
        "- in iterator \n"
      ]
    },
    {
      "cell_type": "code",
      "metadata": {
        "id": "hxYieS8p29_V"
      },
      "source": [
        "r = range(0,10,2)  #esto es un iterable \n",
        "for x in r: \n",
        "   print(x)\n",
        "\n",
        "colores = ['rojo', 'rosa', 'azul', 'fucsia']\n",
        "for indice in range (0,4,1):  #ese paréntesis nos dice de donde se empieza, el stop y el incremento \n",
        "  #print(colores[indice]) \n",
        "  colores[indice]=colores[indice] + str(indice)\n",
        "\n",
        "# for sobre un iterador\n",
        "for col in colores:\n",
        "  print(col)\n",
        "\n"
      ],
      "execution_count": null,
      "outputs": []
    },
    {
      "cell_type": "markdown",
      "metadata": {
        "id": "YPxs4Gxh7-dD"
      },
      "source": [
        "#GENERADORES\n",
        "\n",
        "[ valor for x in range(10) ] \n",
        "podrías poner una lista, hacer un string... etc \n"
      ]
    },
    {
      "cell_type": "code",
      "metadata": {
        "id": "J11KWwX68WmL",
        "outputId": "898d5f46-c24e-4bb3-8d1e-433b504b5557",
        "colab": {
          "base_uri": "https://localhost:8080/",
          "height": 85
        }
      },
      "source": [
        "lista = [ \"hola\" for x in range(10)]  #Le pedi a la lista que fuera de 10 ceros, porque toma el valor de x en cada iteración\n",
        "print(lista)\n",
        "\n",
        "lista2 = [[0,0,0] for x in range (3) ]  #Para hacer una matríz, es una lista en otra lista  \n",
        "print(lista2)\n",
        "\n",
        "lista3 = [[0 for x in range(3)] for x in range(3) ] #Esta puede ser otra manera, usando otro for dentro de la lista \n",
        "print(lista3)\n",
        "\n",
        "#Esta es otra manera, declarando variables \n",
        "ren=3           \n",
        "col=3\n",
        "lista4 = [[0 for x in range(col)] for x in range(ren) ]\n",
        "print(lista4)\n",
        "\n"
      ],
      "execution_count": 28,
      "outputs": [
        {
          "output_type": "stream",
          "text": [
            "['hola', 'hola', 'hola', 'hola', 'hola', 'hola', 'hola', 'hola', 'hola', 'hola']\n",
            "[[0, 0, 0], [0, 0, 0], [0, 0, 0]]\n",
            "[[0, 0, 0], [0, 0, 0], [0, 0, 0]]\n",
            "[[0, 0, 0], [0, 0, 0], [0, 0, 0]]\n"
          ],
          "name": "stdout"
        }
      ]
    },
    {
      "cell_type": "markdown",
      "metadata": {
        "id": "mOKRRrD-_E1f"
      },
      "source": [
        "#POO EN PYTHON \n",
        "\n",
        "- Clase \n",
        "- Creación de objetos \n",
        "- Contructor \n",
        "- Encapsulamiento \n",
        "- Métodos \n",
        "- Atributos \n",
        "- Herencia \n",
        "\n",
        "\n",
        "Como es un lenguaje que simula la orientacion a objetos, cada metodo tiene que llamar a otro, es como hacer un ajuste para poder llevarlo a cabo \n",
        "y poder ajustar el python \n"
      ]
    },
    {
      "cell_type": "code",
      "metadata": {
        "id": "Fzw6NLc4_WtR",
        "outputId": "ef9643da-a29e-4bf5-e380-f423a9ab3661",
        "colab": {
          "base_uri": "https://localhost:8080/",
          "height": 34
        }
      },
      "source": [
        "#Declarando clase\n",
        "class computadora: \n",
        "  def __init__(self,m,p): #Método constructor con dos guiones bajos antes y despues del init\n",
        "        self.__marca= m \n",
        "        self.__procesador= p\n",
        "\n",
        " #To string te da el estatus de tu obj\n",
        "  def to_string( self ):  #Siempre hay que ponerle el self porque reserva lugar \n",
        "        return \"Marca:\"+self.__marca+\"Procesador:\"+self.__procesador\n",
        "        \n",
        "mi_pc = computadora(\"Toshiba\",\"Intel i7\")  #Variable que hace referencia al objeto tipo computadora \n",
        "mi_pc.__marca=\"HP\"\n",
        "print(mi_pc.to_string())\n",
        "\n"
      ],
      "execution_count": 41,
      "outputs": [
        {
          "output_type": "stream",
          "text": [
            "Marca:ToshibaProcesador:Intel i7\n"
          ],
          "name": "stdout"
        }
      ]
    }
  ]
}