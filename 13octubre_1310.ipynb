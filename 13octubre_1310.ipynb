{
  "nbformat": 4,
  "nbformat_minor": 0,
  "metadata": {
    "colab": {
      "name": "13octubre_1310.ipynb",
      "provenance": [],
      "authorship_tag": "ABX9TyMQa0F8kwxbZV652+e859m+",
      "include_colab_link": true
    },
    "kernelspec": {
      "name": "python3",
      "display_name": "Python 3"
    }
  },
  "cells": [
    {
      "cell_type": "markdown",
      "metadata": {
        "id": "view-in-github",
        "colab_type": "text"
      },
      "source": [
        "<a href=\"https://colab.research.google.com/github/EricaGoyeneche/edd_1310_2021/blob/master/13octubre_1310.ipynb\" target=\"_parent\"><img src=\"https://colab.research.google.com/assets/colab-badge.svg\" alt=\"Open In Colab\"/></a>"
      ]
    },
    {
      "cell_type": "code",
      "metadata": {
        "id": "g56ByzKHt-GN",
        "outputId": "a8ce3ce7-0bf1-437a-d7ef-0ffac58381f6",
        "colab": {
          "base_uri": "https://localhost:8080/",
          "height": 105
        }
      },
      "source": [
        "alumno = { \n",
        "          \"num_cta\" : 303030303 ,\n",
        "          \"carrera\" : \"ICO\",\n",
        "          \"promedio\" : 9.8,\n",
        "          \"materias\" :[\"EDD\",\"CyP\",\"Calidad\",\"Emprendimiento\"],\n",
        "          \"direccion\" : { \n",
        "                            \"calle\":\"rancho seco\",\n",
        "                            \"numero\" : 23 ,\n",
        "                            \"delegacion\" : \"Neza\",\n",
        "                            \"estado\" : {\n",
        "                                        \"id\" : 15 ,\n",
        "                                        \"nombre\" : \"Estado de Máxico\" ,\n",
        "                                        \"nombre_corto\" : \"EdoMex\"\n",
        "                                        } ,\n",
        "                            \"CP\":57170\n",
        "\n",
        "                        } \n",
        "          }\n",
        "print(alumno)\n",
        "#Hacemos modificaciones porque son mutables  \n",
        "alumno['carrera'] = 'Ingenieria en Computacion'\n",
        "print(alumno)\n",
        "#Para agregar datos \n",
        "alumno['nombre_completo']={'Primer': \"Juan\",\n",
        "                           'Segundo':'Pedro',\n",
        "                           \"Materno\":'Pérez',\n",
        "                           \"Paterno\":\"Gómez\"\n",
        "                           }\n",
        "alumno['semestre']=3\n",
        "print(alumno)\n",
        "#para darle formato \n",
        "\n",
        "\n",
        "print(f\"{alumno['nombre_completo']['Primer']} {alumno['nombre_completo']['Segundo']}\")\n",
        "\n"
      ],
      "execution_count": 8,
      "outputs": [
        {
          "output_type": "stream",
          "text": [
            "{'num_cta': 303030303, 'carrera': 'ICO', 'promedio': 9.8, 'materias': ['EDD', 'CyP', 'Calidad', 'Emprendimiento'], 'direccion': {'calle': 'rancho seco', 'numero': 23, 'delegacion': 'Neza', 'estado': {'id': 15, 'nombre': 'Estado de Máxico', 'nombre_corto': 'EdoMex'}, 'CP': 57170}}\n",
            "{'num_cta': 303030303, 'carrera': 'Ingenieria en Computacion', 'promedio': 9.8, 'materias': ['EDD', 'CyP', 'Calidad', 'Emprendimiento'], 'direccion': {'calle': 'rancho seco', 'numero': 23, 'delegacion': 'Neza', 'estado': {'id': 15, 'nombre': 'Estado de Máxico', 'nombre_corto': 'EdoMex'}, 'CP': 57170}}\n",
            "{'num_cta': 303030303, 'carrera': 'Ingenieria en Computacion', 'promedio': 9.8, 'materias': ['EDD', 'CyP', 'Calidad', 'Emprendimiento'], 'direccion': {'calle': 'rancho seco', 'numero': 23, 'delegacion': 'Neza', 'estado': {'id': 15, 'nombre': 'Estado de Máxico', 'nombre_corto': 'EdoMex'}, 'CP': 57170}, 'nombre_completo': {'Primer': 'Juan', 'Segundo': 'Pedro', 'Materno': 'Pérez', 'Paterno': 'Gómez'}, 'semestre': 3}\n",
            "Juan Pedro\n"
          ],
          "name": "stdout"
        }
      ]
    },
    {
      "cell_type": "code",
      "metadata": {
        "id": "BXJrS0SCx7w3",
        "outputId": "9e0188ac-07d0-4663-bc60-fc8f1cfd875c",
        "colab": {
          "base_uri": "https://localhost:8080/",
          "height": 428
        }
      },
      "source": [
        "#key (), values() y items()\n",
        "\n",
        "llaves = alumno.keys()\n",
        "print(llaves) #Sigue siendo un iterable \n",
        "for llave in llaves: \n",
        "    print(llave.upper())  #Para las llaves por separado y lado izquierdo de los pares \n",
        "\n",
        "valores = alumno.values()  #El lado derecho de los pares \n",
        "for val in valores:\n",
        "  print(val)\n",
        "\n",
        "pares = alumno.items()  #Te da tus variables y tus valores, en lista de tuplas \n",
        "print(pares)\n",
        "for elem in pares:\n",
        "  print(f\"El campo {elem[0]} tiene el valor {elem[1]} \")  #Podemos iterar cada par por individual \n"
      ],
      "execution_count": 15,
      "outputs": [
        {
          "output_type": "stream",
          "text": [
            "dict_keys(['num_cta', 'carrera', 'promedio', 'materias', 'direccion', 'nombre_completo', 'semestre'])\n",
            "NUM_CTA\n",
            "CARRERA\n",
            "PROMEDIO\n",
            "MATERIAS\n",
            "DIRECCION\n",
            "NOMBRE_COMPLETO\n",
            "SEMESTRE\n",
            "303030303\n",
            "Ingenieria en Computacion\n",
            "9.8\n",
            "['EDD', 'CyP', 'Calidad', 'Emprendimiento']\n",
            "{'calle': 'rancho seco', 'numero': 23, 'delegacion': 'Neza', 'estado': {'id': 15, 'nombre': 'Estado de Máxico', 'nombre_corto': 'EdoMex'}, 'CP': 57170}\n",
            "{'Primer': 'Juan', 'Segundo': 'Pedro', 'Materno': 'Pérez', 'Paterno': 'Gómez'}\n",
            "3\n",
            "dict_items([('num_cta', 303030303), ('carrera', 'Ingenieria en Computacion'), ('promedio', 9.8), ('materias', ['EDD', 'CyP', 'Calidad', 'Emprendimiento']), ('direccion', {'calle': 'rancho seco', 'numero': 23, 'delegacion': 'Neza', 'estado': {'id': 15, 'nombre': 'Estado de Máxico', 'nombre_corto': 'EdoMex'}, 'CP': 57170}), ('nombre_completo', {'Primer': 'Juan', 'Segundo': 'Pedro', 'Materno': 'Pérez', 'Paterno': 'Gómez'}), ('semestre', 3)])\n",
            "El campo num_cta tiene el valor 303030303 \n",
            "El campo carrera tiene el valor Ingenieria en Computacion \n",
            "El campo promedio tiene el valor 9.8 \n",
            "El campo materias tiene el valor ['EDD', 'CyP', 'Calidad', 'Emprendimiento'] \n",
            "El campo direccion tiene el valor {'calle': 'rancho seco', 'numero': 23, 'delegacion': 'Neza', 'estado': {'id': 15, 'nombre': 'Estado de Máxico', 'nombre_corto': 'EdoMex'}, 'CP': 57170} \n",
            "El campo nombre_completo tiene el valor {'Primer': 'Juan', 'Segundo': 'Pedro', 'Materno': 'Pérez', 'Paterno': 'Gómez'} \n",
            "El campo semestre tiene el valor 3 \n"
          ],
          "name": "stdout"
        }
      ]
    },
    {
      "cell_type": "code",
      "metadata": {
        "id": "Xn08xDrc06FC",
        "outputId": "0203dae7-672c-44cc-ee5c-6b7254208cc1",
        "colab": {
          "base_uri": "https://localhost:8080/",
          "height": 54
        }
      },
      "source": [
        "computadora = {'Procesador':'Intel i7', \n",
        "               'RAM':\"Kingston 128GB\", \n",
        "               }\n",
        "otros = {'Monitor':'LG 49\\\"', \"HD\":\"Toshiba 1TB\"}\n",
        "#Vamos a concatenar con una funsión que se llama Update y es para juntar dos diccionarios \n",
        "computadora.update(otros)\n",
        "print(computadora)"
      ],
      "execution_count": 18,
      "outputs": [
        {
          "output_type": "stream",
          "text": [
            "{'Procesador': 'Intel i7', 'RAM': 'Kingston 128GB', 'Monitor': 'LG 49\"', 'HD': 'Toshiba 1TB'}\n"
          ],
          "name": "stdout"
        }
      ]
    },
    {
      "cell_type": "markdown",
      "metadata": {
        "id": "t7f0BMj-2giv"
      },
      "source": [
        "##Funciones \n",
        "\n",
        "- Unidades de código reutilizable o sea que lo puedes mandar llamar varias veces \n",
        "\n",
        "- Una función toma de 0 a n paraámetros de entrada \n",
        "\n",
        "- Tiene una sola salida o sea un solo tipo de (return) de cada dato \n",
        "\n",
        "- Solo puedes hacer dos cosas \n",
        "\n",
        "    - Definirla \n",
        "    - Llamarla \n",
        "\n",
        "- Se definen con la palabra reservada 'def'\n"
      ]
    },
    {
      "cell_type": "code",
      "metadata": {
        "id": "4h3b1MID3fRf",
        "outputId": "3267af57-e720-452a-cf0e-6e18b646a3a2",
        "colab": {
          "base_uri": "https://localhost:8080/",
          "height": 136
        }
      },
      "source": [
        "#PARA SUMAR \n",
        "def sumar(x , y):\n",
        "  resultado = x + y \n",
        "  return resultado \n",
        "\n",
        "def saludar ( nombre ):\n",
        "  print(f\" Hola {nombre}. ¿Cómo estás?\")\n",
        "  return None #Si una función no regresa nada es bueno porner el return None    \n",
        "\n",
        "#Procesar None siempre hay que hacer una validación de valores \n",
        "def multiplicar (valor , veces):\n",
        "  if valor != None:\n",
        "    c = valor * veces \n",
        "  else: \n",
        "    c = \"Operación no válida\"\n",
        "  return c \n",
        "\n",
        "def operacion(a, b, c):\n",
        "    res = a + (b / c)\n",
        "    return res \n",
        "\n",
        "\n",
        "print(sumar(10,5))\n",
        "print(sumar(2,6))\n",
        "saludar(\"Jesús\")\n",
        "#print(saludar('Jose')) Si se pone dentro del print va a imprimimr un None \n",
        "print(multiplicar(None,6))\n",
        "\n",
        "\n",
        "print (operacion(2,9,3))\n",
        "print (operacion(2,3,9))  #Los argumentos son posicionales, respetan el orden en que fueron asignados \n",
        "print (operacion(a= 2,c=3,b=9))\n"
      ],
      "execution_count": 35,
      "outputs": [
        {
          "output_type": "stream",
          "text": [
            "15\n",
            "8\n",
            " Hola Jesús. ¿Cómo estás?\n",
            "Operación no válida\n",
            "5.0\n",
            "2.3333333333333335\n",
            "5.0\n"
          ],
          "name": "stdout"
        }
      ]
    },
    {
      "cell_type": "code",
      "metadata": {
        "id": "qpJ23HU1-XKC",
        "outputId": "ff234a7d-c68a-4134-fb0d-bd930603c1ab",
        "colab": {
          "base_uri": "https://localhost:8080/",
          "height": 272
        }
      },
      "source": [
        "#Valores por defecto \n",
        "def comanda (primer, fuerte, postre= \"Galleta de animalito\"):\n",
        "  print(f\"De entrada pidió: {primer}\")\n",
        "  print(f\"De plato fuerte: {fuerte}\")\n",
        "  print(f\"Postre : {postre}\")\n",
        "\n",
        "#Argumentos posicionales con tuplas es con asterisco *\n",
        "def comanda_2(*opciones ):\n",
        "   print(opciones)\n",
        "   print(f\"De entrada pidió: {opciones[0]}\")\n",
        "   print(f\"De plato fuerte: {opciones[1]}\")\n",
        "   print(f\"Postre : {opciones[2]}\")\n",
        "   print(\"\\nIndicaciones extra:\")\n",
        "   for ind in opciones[3::]:  #Es un slicing que nos dice que a partir del 3 son indicaciones ecxtras \n",
        "     print(f\"\\t{ind}\")\n",
        "\n",
        "\n",
        "comanda(\"Sopa aguada\", \"Tortas de papa\", \"Gelatina de limón\")\n",
        "comanda(\"Sopa aguada\", \"Tortas de papa\")  #Se pone el valor por defecto \n",
        "comanda_2(\"Sopa aguada\", \"Tortas de papa  \", \"Gelatina de limón\",\"traer dos limones\",\"Las tortas bien doradas\", \"vaso con hielos\")\n"
      ],
      "execution_count": 48,
      "outputs": [
        {
          "output_type": "stream",
          "text": [
            "De entrada pidió: Sopa aguada\n",
            "De plato fuerte: Tortas de papa\n",
            "Postre : Gelatina de limón\n",
            "De entrada pidió: Sopa aguada\n",
            "De plato fuerte: Tortas de papa\n",
            "Postre : Galleta de animalito\n",
            "('Sopa aguada', 'Tortas de papa  ', 'Gelatina de limón', 'traer dos limones', 'Las tortas bien doradas', 'vaso con hielos')\n",
            "De entrada pidió: Sopa aguada\n",
            "De plato fuerte: Tortas de papa  \n",
            "Postre : Gelatina de limón\n",
            "\n",
            "Indicaciones extra:\n",
            "\ttraer dos limones\n",
            "\tLas tortas bien doradas\n",
            "\tvaso con hielos\n"
          ],
          "name": "stdout"
        }
      ]
    },
    {
      "cell_type": "code",
      "metadata": {
        "id": "A9z2JbufBsFx",
        "outputId": "c67854a0-3200-4c8f-b77c-897a37af2759",
        "colab": {
          "base_uri": "https://localhost:8080/",
          "height": 156
        }
      },
      "source": [
        "#Argumentos posicionales con diccionarios tenemos que mandar a llamar con la asignacion de variable interna\n",
        "def comanda_3 (**opciones):\n",
        "  print(opciones)\n",
        "  for op in opciones.items():\n",
        "     print(f\"{op[0]}-> {op[1]}\")\n",
        "\n",
        "comanda_3(primer=\"Sopa aguada\",fuerte= \"Tortas de papa  \",postre= \"Gelatina de limón\",\n",
        "          extra1=\"traer dos limones\",extra2=\"Las tortas bien doradas\",extra3= \"vaso con hielos\")\n"
      ],
      "execution_count": 52,
      "outputs": [
        {
          "output_type": "stream",
          "text": [
            "{'primer': 'Sopa aguada', 'fuerte': 'Tortas de papa  ', 'postre': 'Gelatina de limón', 'extra1': 'traer dos limones', 'extra2': 'Las tortas bien doradas', 'extra3': 'vaso con hielos'}\n",
            "primer-> Sopa aguada\n",
            "fuerte-> Tortas de papa  \n",
            "postre-> Gelatina de limón\n",
            "extra1-> traer dos limones\n",
            "extra2-> Las tortas bien doradas\n",
            "extra3-> vaso con hielos\n"
          ],
          "name": "stdout"
        }
      ]
    }
  ]
}