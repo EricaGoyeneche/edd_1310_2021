{
  "nbformat": 4,
  "nbformat_minor": 0,
  "metadata": {
    "colab": {
      "name": "8octubre_1310.ipynb",
      "provenance": [],
      "authorship_tag": "ABX9TyMgEWy+ukSUUQ1wASdhCXur",
      "include_colab_link": true
    },
    "kernelspec": {
      "name": "python3",
      "display_name": "Python 3"
    }
  },
  "cells": [
    {
      "cell_type": "markdown",
      "metadata": {
        "id": "view-in-github",
        "colab_type": "text"
      },
      "source": [
        "<a href=\"https://colab.research.google.com/github/EricaGoyeneche/edd_1310_2021/blob/master/8octubre_1310.ipynb\" target=\"_parent\"><img src=\"https://colab.research.google.com/assets/colab-badge.svg\" alt=\"Open In Colab\"/></a>"
      ]
    },
    {
      "cell_type": "code",
      "metadata": {
        "id": "qzjxt2E4_Mjr",
        "outputId": "3ee1b8d0-56c0-43a7-8515-b894669e0305",
        "colab": {
          "base_uri": "https://localhost:8080/",
          "height": 156
        }
      },
      "source": [
        "monitores =[[\"Samsung\",\"17.3 \\\"\",1024],[\"BenQ\",\"40\\\"\",2048]]\n",
        "procesadores = [[\"Intel\",\"i7\",3.4],[\"AMD\",\"razzer\",3.3],[\"Intel\",\"i3\",3.1]]\n",
        "memorias = [[\"Kingston\", \"8GB\",\"DDR4\"],[\"Kingston\", \"16GB\",\"DDR3\"],[\"ADATA\", \"32GB\",\"DDR4\"]]\n",
        "\n",
        "componentes = [monitores,procesadores,memorias]\n",
        "#interacción con listas y elementos de ellas \n",
        "print(componentes)\n",
        "print(componentes[1])\n",
        "print(componentes[2][1][1])\n",
        "print(int(componentes[0][1][2])*2)\n",
        "print(componentes[1][1][1][1:4:1])\n",
        "print(componentes[2][2][0].lower())  #minusculas \n",
        "\n",
        "print(componentes[2])"
      ],
      "execution_count": 33,
      "outputs": [
        {
          "output_type": "stream",
          "text": [
            "[[['Samsung', '17.3 \"', 1024], ['BenQ', '40\"', 2048]], [['Intel', 'i7', 3.4], ['AMD', 'razzer', 3.3], ['Intel', 'i3', 3.1]], [['Kingston', '8GB', 'DDR4'], ['Kingston', '16GB', 'DDR3'], ['ADATA', '32GB', 'DDR4']]]\n",
            "[['Intel', 'i7', 3.4], ['AMD', 'razzer', 3.3], ['Intel', 'i3', 3.1]]\n",
            "16GB\n",
            "4096\n",
            "azz\n",
            "adata\n",
            "[['Kingston', '8GB', 'DDR4'], ['Kingston', '16GB', 'DDR3'], ['ADATA', '32GB', 'DDR4']]\n"
          ],
          "name": "stdout"
        }
      ]
    },
    {
      "cell_type": "code",
      "metadata": {
        "id": "WgNRxY-pHvix",
        "outputId": "5e1981fa-0925-455e-8fe3-9cf95b27dfaf",
        "colab": {
          "base_uri": "https://localhost:8080/",
          "height": 187
        }
      },
      "source": [
        "#copiar listas \n",
        "#extender listas \n",
        "frutas =['manzana','pera']\n",
        "otras_frutas = ['aguacate', \"sandia\"]\n",
        "frutas.append(otras_frutas)  #De una lista a otra \n",
        "print(frutas)\n",
        "\n",
        "# + sobre listas  se concatena pero no se modifican las listas \n",
        "frutas = frutas + otras_frutas\n",
        "print(frutas)\n",
        "\n",
        "\n",
        "#funcion extend()  si modifica a la variable frutas \n",
        "frutas.extend(otras_frutas)\n",
        "print(frutas)\n",
        "\n",
        "\n",
        "\n",
        "\n",
        "#COPIAR LISTAS \n",
        "colores = ['Azul',' rojo','Verde','violeta']\n",
        "otros_colores = colores \n",
        "print(colores)\n",
        "print(otros_colores)\n",
        "otros_colores.append('Rosa')  #Se agrega a las dos variables \n",
        "print(colores)\n",
        "print(otros_colores)\n",
        "\n",
        "\n",
        "#Para hacer una copia usar la funcion copy\n",
        "una_mas = colores.copy ()\n",
        "una_mas.append('gris')   #Solo se modifica la de una_mas \n",
        "print(una_mas)\n",
        "print(colores)\n",
        "\n",
        "#unpaking de listas requisito: el mismo numero de variable que de valores que quieres desempaquetar \n",
        "\n",
        "alumno = ['Jesus','Pérez','Herrera', 22, 'ICO', 10.0]\n",
        "#nombre = alumno[0]\n",
        "#paterno = alumno[1]\n",
        "#etc serían 7 lineas de código \n",
        "\n",
        "nombre,paterno,materno,edad,carrera,promedio = alumno  #Se van a igualar 1 con 1 y así de cada lista \n",
        "print(f\"Alumno:{nombre}  carrera:{carrera} promedio:{promedio}\")  #f es para formato \n",
        " "
      ],
      "execution_count": 51,
      "outputs": [
        {
          "output_type": "stream",
          "text": [
            "['manzana', 'pera', ['aguacate', 'sandia']]\n",
            "['manzana', 'pera', ['aguacate', 'sandia'], 'aguacate', 'sandia']\n",
            "['manzana', 'pera', ['aguacate', 'sandia'], 'aguacate', 'sandia', 'aguacate', 'sandia']\n",
            "['Azul', ' rojo', 'Verde', 'violeta']\n",
            "['Azul', ' rojo', 'Verde', 'violeta']\n",
            "['Azul', ' rojo', 'Verde', 'violeta', 'Rosa']\n",
            "['Azul', ' rojo', 'Verde', 'violeta', 'Rosa']\n",
            "['Azul', ' rojo', 'Verde', 'violeta', 'Rosa', 'gris']\n",
            "['Azul', ' rojo', 'Verde', 'violeta', 'Rosa']\n",
            "Alumno:Jesus  carrera:ICO promedio:10.0\n"
          ],
          "name": "stdout"
        }
      ]
    },
    {
      "cell_type": "markdown",
      "metadata": {
        "id": "v5hcjomrRm2Y"
      },
      "source": [
        "#Tuplas \n",
        "\n",
        "Es un conjunto de datos que son iterables \n",
        "\n",
        "Lista de valores constantes \n",
        "\n",
        " - Se declaran con ()\n",
        "\n",
        " - Selector con []\n",
        "\n",
        " - No son mutables o sea no se puede modificar valores internos de esa variable"
      ]
    },
    {
      "cell_type": "code",
      "metadata": {
        "id": "42VIO81hR-jw",
        "outputId": "3b292c9b-c938-4626-bdae-213467efd0ac",
        "colab": {
          "base_uri": "https://localhost:8080/",
          "height": 68
        }
      },
      "source": [
        "precios = ( 99.9, 49.9 , 12.45 , 23.3, 33.44, 55.65 )\n",
        "print (precios[1])\n",
        "#precios[1] = 50.0 No sirven la asignación de elementos \n",
        "#Solo tienen dos métodos count e index \n",
        "print(precios)\n",
        "print(precios[2:4]) # Slicing si aplica \n",
        "\n",
        "\n"
      ],
      "execution_count": 58,
      "outputs": [
        {
          "output_type": "stream",
          "text": [
            "49.9\n",
            "(99.9, 49.9, 12.45, 23.3, 33.44, 55.65)\n",
            "(12.45, 23.3)\n"
          ],
          "name": "stdout"
        }
      ]
    },
    {
      "cell_type": "markdown",
      "metadata": {
        "id": "9-yDsHxrTU7g"
      },
      "source": [
        "##DICCIONARIOS \n",
        "\n",
        "- Se declara con {}\n",
        "\n",
        "- Si son mutables \n",
        "\n",
        "- Son conjuntos de pares llave: valor \n",
        "\n",
        "- Equivalentes a los conjuntos JSON de JS "
      ]
    },
    {
      "cell_type": "code",
      "metadata": {
        "id": "Cg9EXfSpThq0",
        "outputId": "384dbf36-0482-483a-9600-e428ebcfc7b9",
        "colab": {
          "base_uri": "https://localhost:8080/",
          "height": 129
        }
      },
      "source": [
        "cliente = {} \n",
        "print(cliente)\n",
        "alumno = { \"num_CTA\" :316038281}  #objeto de tipo diccionario \n",
        "print(alumno)\n",
        "alumno = alumno = { \n",
        "          \"num_cta\" : 303030303 ,\n",
        "          \"carrera\" : \"ICO\",\n",
        "          \"promedio\" : 9.8,\n",
        "          \"materias\" :[\"EDD\",\"CyP\",\"Calidad\",\"Emprendimiento\"],\n",
        "          \"direccion\" : { \n",
        "                            \"calle\":\"rancho seco\",\n",
        "                            \"numero\" : 23 ,\n",
        "                            \"delegacion\" : \"Neza\",\n",
        "                            \"estado\" : {\n",
        "                                        \"id\" : 15 ,\n",
        "                                        \"nombre\" : \"Estado de México\",\n",
        "                                        \"nombre_corto\" : \"Edomex\"\n",
        "          }\n",
        "          }\n",
        "}\n",
        "\n",
        " \n",
        " print(alumno)           \n",
        " print(alumno['materias'])\n",
        " print(alumno['promedio'])\n",
        " print(alumno['direccion']['estado']['nombre_corto'])"
      ],
      "execution_count": 79,
      "outputs": [
        {
          "output_type": "error",
          "ename": "IndentationError",
          "evalue": "ignored",
          "traceback": [
            "\u001b[0;36m  File \u001b[0;32m\"<ipython-input-79-c911e99a7928>\"\u001b[0;36m, line \u001b[0;32m23\u001b[0m\n\u001b[0;31m    print(alumno)\u001b[0m\n\u001b[0m    ^\u001b[0m\n\u001b[0;31mIndentationError\u001b[0m\u001b[0;31m:\u001b[0m unexpected indent\n"
          ]
        }
      ]
    }
  ]
}