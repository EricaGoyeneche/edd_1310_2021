{
  "nbformat": 4,
  "nbformat_minor": 0,
  "metadata": {
    "colab": {
      "name": "Untitled0.ipynb",
      "provenance": [],
      "authorship_tag": "ABX9TyMLYr4PxMNkC/2POE2Tn7CL",
      "include_colab_link": true
    },
    "kernelspec": {
      "name": "python3",
      "display_name": "Python 3"
    }
  },
  "cells": [
    {
      "cell_type": "markdown",
      "metadata": {
        "id": "view-in-github",
        "colab_type": "text"
      },
      "source": [
        "<a href=\"https://colab.research.google.com/github/EricaGoyeneche/edd_1310_2021/blob/master/29sep.ipynb\" target=\"_parent\"><img src=\"https://colab.research.google.com/assets/colab-badge.svg\" alt=\"Open In Colab\"/></a>"
      ]
    },
    {
      "cell_type": "code",
      "metadata": {
        "id": "XRempAYLsumi"
      },
      "source": [
        "edad = 10 "
      ],
      "execution_count": 3,
      "outputs": []
    },
    {
      "cell_type": "code",
      "metadata": {
        "id": "gZbIYij1vTwR",
        "outputId": "c6d3aa2e-5147-4c54-e37b-b938837c1a6a",
        "colab": {
          "base_uri": "https://localhost:8080/",
          "height": 221
        }
      },
      "source": [
        "print (edad)\n",
        "colores = ('rojo','azul','verde','morado','violeta')\n",
        "print(colores)\n",
        "colores [3]\n",
        "print(colores[3])\n",
        "nombre = 'Alberto'\n",
        "print(nombre[0])\n",
        "print(nombre[0:3:1])\n",
        "for letra in nombre:\n",
        "  print(letra)\n",
        "  "
      ],
      "execution_count": 15,
      "outputs": [
        {
          "output_type": "stream",
          "text": [
            "10\n",
            "('rojo', 'azul', 'verde', 'morado', 'violeta')\n",
            "morado\n",
            "A\n",
            "Alb\n",
            "A\n",
            "l\n",
            "b\n",
            "e\n",
            "r\n",
            "t\n",
            "o\n"
          ],
          "name": "stdout"
        }
      ]
    },
    {
      "cell_type": "markdown",
      "metadata": {
        "id": "eDhIqYJV-XXt"
      },
      "source": [
        "# QUE ES MARKDOWN \n",
        "Markdown es un lenguaje de marcado para documentar un código. El objetivo es simplificar la estructura de HTML \n",
        "\n",
        "**negritas**\n",
        "\n",
        "Mas info en : |github| [https://github.com/adam-p/markdown-here/wiki/Markdown-Cheatsheet]\n",
        "\n",
        "\n",
        "![carita](https://i.pinimg.com/236x/c5/0d/7c/c50d7c87c33d8ffa6a6cf84142122498.jpg)"
      ]
    },
    {
      "cell_type": "code",
      "metadata": {
        "id": "VIOJ_A4E-mTR",
        "outputId": "a5efaf5b-aa81-41d9-c603-c85689dc7afc",
        "colab": {
          "base_uri": "https://localhost:8080/",
          "height": 129
        }
      },
      "source": [
        ""
      ],
      "execution_count": 29,
      "outputs": [
        {
          "output_type": "error",
          "ename": "SyntaxError",
          "evalue": "ignored",
          "traceback": [
            "\u001b[0;36m  File \u001b[0;32m\"<ipython-input-29-4aa9d12cbae8>\"\u001b[0;36m, line \u001b[0;32m1\u001b[0m\n\u001b[0;31m    Mas info en : |github| [https://github.com/adam-p/markdown-here/wiki/Markdown-Cheatsheet]\u001b[0m\n\u001b[0m           ^\u001b[0m\n\u001b[0;31mSyntaxError\u001b[0m\u001b[0;31m:\u001b[0m invalid syntax\n"
          ]
        }
      ]
    }
  ]
}