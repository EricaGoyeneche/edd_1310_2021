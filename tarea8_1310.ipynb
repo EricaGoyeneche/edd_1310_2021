{
  "nbformat": 4,
  "nbformat_minor": 0,
  "metadata": {
    "colab": {
      "name": "tarea8_1310.ipynb",
      "provenance": [],
      "authorship_tag": "ABX9TyPkMpD0Z81kMMsCER3LTPkY",
      "include_colab_link": true
    },
    "kernelspec": {
      "name": "python3",
      "display_name": "Python 3"
    }
  },
  "cells": [
    {
      "cell_type": "markdown",
      "metadata": {
        "id": "view-in-github",
        "colab_type": "text"
      },
      "source": [
        "<a href=\"https://colab.research.google.com/github/EricaGoyeneche/edd_1310_2021/blob/master/tarea8_1310.ipynb\" target=\"_parent\"><img src=\"https://colab.research.google.com/assets/colab-badge.svg\" alt=\"Open In Colab\"/></a>"
      ]
    },
    {
      "cell_type": "code",
      "metadata": {
        "colab": {
          "base_uri": "https://localhost:8080/"
        },
        "id": "2lxeTabuS-b6",
        "outputId": "0ba7c63e-71c0-491c-a749-c7b48c9d2cac"
      },
      "source": [
        "class Nodo():\n",
        "\n",
        "  def __init__(self,dato):\n",
        "    self.dato = dato\n",
        "    self.siguiente = None\n",
        "\n",
        "class circular():\n",
        "  \n",
        "  def __init__(self,dato):\n",
        "    self.dato = dato\n",
        "    self.sig = None\n",
        "\n",
        "  def __init__(self):\n",
        "    self.prim = None\n",
        "    self.ult = None\n",
        "\n",
        "  def empty ( self):\n",
        "    return self.prim == None\n",
        "  \n",
        "  def add_inicio(self,dato): \n",
        "    if self.empty():\n",
        "         self.prim = self.ult = Nodo(dato)\n",
        "         self.ult.sig = self.prim\n",
        "\n",
        "    else:\n",
        "      cn = Nodo(dato)\n",
        "      cn.sig = self.prim\n",
        "      self.prim = cn\n",
        "      self.ult.sig = self.prim\n",
        "\n",
        "   \n",
        "  def add_final(self, dato):\n",
        "    if self.empty():\n",
        "      self.prim = self.ult = Nodo(dato)\n",
        "      self.ult.sig = self.prim\n",
        "    else: \n",
        "      cn = self.ult\n",
        "      self.ult = cn.sig = Nodo(dato)\n",
        "      self.ult.sig = self.prim \n",
        "  \n",
        "  def mostrar_datos(self):\n",
        "    cn = self.prim \n",
        "    while cn:\n",
        "      print(cn.dato)\n",
        "      cn = cn.sig\n",
        "      if cn == self.prim:\n",
        "        break \n",
        "\n",
        "  def delete_inicio(self):\n",
        "    if self.empty():\n",
        "      print('No hay datos al inicio')\n",
        "    elif self.prim == self.ult:\n",
        "        self.prim = self.ult = None\n",
        "    else:\n",
        "      self.prim = self.prim.sig\n",
        "      self.ult.sig = self.prim\n",
        "\n",
        "  def delete_final(self):\n",
        "    if self.empty():\n",
        "      print('No hay datos al final')\n",
        "    elif self.prim == self.ult:\n",
        "        self.prim = self.ult = None\n",
        "    else:\n",
        "        cn = self.prim\n",
        "        while cn.sig != self.ult:\n",
        "          cn = cn.sigu\n",
        "        cn.sig = self.prim\n",
        "        self.ult = cn\n",
        "\n",
        "l = circular()\n",
        "\n",
        "l.add_inicio(16)\n",
        "l.add_final(50)\n",
        "l.add_inicio(13)\n",
        "\n",
        "l.mostrar_datos()\n",
        "print(\"-----------------------\")\n",
        "print(\"Se quitó un dato\")\n",
        "l.delete_inicio()\n",
        "l.delete_final()\n",
        "\n",
        "l.mostrar_datos()\n",
        "print(\"Queda el 16\")\n",
        "\n",
        "\n"
      ],
      "execution_count": 11,
      "outputs": [
        {
          "output_type": "stream",
          "text": [
            "13\n",
            "16\n",
            "50\n",
            "-----------------------\n",
            "Se quitó un dato\n",
            "16\n",
            "Queda el 16\n"
          ],
          "name": "stdout"
        }
      ]
    }
  ]
}