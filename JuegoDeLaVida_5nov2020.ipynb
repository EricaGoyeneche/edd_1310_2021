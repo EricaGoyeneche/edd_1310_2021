{
  "nbformat": 4,
  "nbformat_minor": 0,
  "metadata": {
    "colab": {
      "name": "JuegoDeLaVida_5nov2020.ipynb",
      "provenance": [],
      "authorship_tag": "ABX9TyOiMyDKipPTg5Nrlm6pPqQ0",
      "include_colab_link": true
    },
    "kernelspec": {
      "name": "python3",
      "display_name": "Python 3"
    }
  },
  "cells": [
    {
      "cell_type": "markdown",
      "metadata": {
        "id": "view-in-github",
        "colab_type": "text"
      },
      "source": [
        "<a href=\"https://colab.research.google.com/github/EricaGoyeneche/edd_1310_2021/blob/master/JuegoDeLaVida_5nov2020.ipynb\" target=\"_parent\"><img src=\"https://colab.research.google.com/assets/colab-badge.svg\" alt=\"Open In Colab\"/></a>"
      ]
    },
    {
      "cell_type": "code",
      "metadata": {
        "id": "a8yw7wv2Zm8n",
        "outputId": "2ca48c62-4c17-4668-9f31-836f93b97008",
        "colab": {
          "base_uri": "https://localhost:8080/",
          "height": 231
        }
      },
      "source": [
        "import copy \n",
        "import time \n",
        "\n",
        "class Array2D:\n",
        "    def __init__(self,rows, cols, value):\n",
        "        self.__cols = cols\n",
        "        self.__rows = rows\n",
        "        self.__array=[[value for x in range(self.__cols)] for y in range(self.__rows)]\n",
        "        self.life = 1 \n",
        "        self.dead = 1 \n",
        "\n",
        "    def llenar(self, tablero):\n",
        "      for a in range(len(tablero)):\n",
        "        c1 = tablero[a][0]\n",
        "        c2 = tablero[1][1]\n",
        "        self.array[c1][c2] = 1\n",
        "    \n",
        "    def llenar(self, tablero):\n",
        "      for a in range(len(tablero)):\n",
        "        c1 = tablero[a][0]\n",
        "        c2 = tablero[1][1]\n",
        "        self.array[c1][c2] = 1\n",
        "\n",
        "    \n",
        "    def to_string(self):\n",
        "        [print(\"---\",end=\"\") for x in range(self.__cols)]\n",
        "        print(\"\")\n",
        "        for ren in self.__array:\n",
        "            print(ren)\n",
        "        [print(\"---\",end=\"\") for x in range(self.__cols)]\n",
        "        print(\"\")\n",
        "\n",
        "    def get_num_rows(self):\n",
        "        return self.__rows\n",
        "\n",
        "    def get_num_cols(self):\n",
        "        return self.__cols\n",
        "\n",
        "    def get_item(self,row,col):\n",
        "        return self.__array[row][col]\n",
        "\n",
        "    def set_item( self , row , col , valor ):\n",
        "        self.__array[row][col]=valor\n",
        "\n",
        "    def clearing(self, valor=0):\n",
        "        for ren in range(self.__rows):\n",
        "            for col in range(self.__cols):\n",
        "                self.__array[ren][col]=valor\n",
        "\n",
        "    def imprime_grid(self):\n",
        "        for r in range(self.grid.get_num_rows()):\n",
        "            for c in range(self.grid.get_num_cols()):\n",
        "                if self.grid.get_item(r,c) == 0:\n",
        "                    print(\"░░\",end=\"\")\n",
        "                else:\n",
        "                    print(\"▓▓\",end=\"\")\n",
        "            print(\"\")\n",
        "#Meodo para saber y limitar el número de vecinos\n",
        "\n",
        "    def get_numero_vecinos_vivos(self , row , col ):\n",
        "        limites=[ row-1 , row+1 , col-1 , col+1 ]\n",
        "        vivos = 0\n",
        "        limites=self.__ajusta_limites__(limites)\n",
        "        if row >= 0 and row <= self.alto-1 and col >= 0 and col <= self.largo -1 :\n",
        "            for r in range(limites[0],limites[1]+1):\n",
        "                for c in range(limites[2],limites[3]+1):\n",
        "                    if r == row and c == col:\n",
        "                        continue\n",
        "                    else :\n",
        "                        if self.grid.get_item(r,c) == self.CELULA_VIVA :\n",
        "                            vivos += 1\n",
        "        else :\n",
        "            print(\"Coordenada la celula fuera del grid\")\n",
        "\n",
        "        return vivos\n",
        "    \n",
        "    def test(self):\n",
        "      gameaux = copy.deepcopy(self.__array)\n",
        "      self.life = 0\n",
        "      self.dead = 0 \n",
        "      for r in range(self.get_num_rows()-1):\n",
        "        for c in range(self.get_num_cols()-1):\n",
        "          vecinos = self.get_numero_vecinos_vivos(r,c)\n",
        "        if self.__array[r][c] ==1:\n",
        "          vecinos = vecinos -1 \n",
        "          if vecinos <2 or vecinos >3:\n",
        "            gameux[r][c] =1\n",
        "            self.dead +=1\n",
        "          else:\n",
        "            gameaux[r][c] = 1\n",
        "            self.life +=1\n",
        "        elif vecinos ==3:\n",
        "          gameaux[r][c]=1\n",
        "          self.life +=1\n",
        "\n",
        "print(\"Los que viven: \"+ str(self.life) +\"Los que mueren: \" + str(self.dead))\n",
        "self.__array=copy.deepcopy(gameaux)\n",
        "\n",
        "    \n",
        "  \n"
      ],
      "execution_count": 16,
      "outputs": [
        {
          "output_type": "error",
          "ename": "NameError",
          "evalue": "ignored",
          "traceback": [
            "\u001b[0;31m---------------------------------------------------------------------------\u001b[0m",
            "\u001b[0;31mNameError\u001b[0m                                 Traceback (most recent call last)",
            "\u001b[0;32m<ipython-input-16-a4eb78e651b8>\u001b[0m in \u001b[0;36m<module>\u001b[0;34m()\u001b[0m\n\u001b[1;32m     94\u001b[0m           \u001b[0mself\u001b[0m\u001b[0;34m.\u001b[0m\u001b[0mlife\u001b[0m \u001b[0;34m+=\u001b[0m\u001b[0;36m1\u001b[0m\u001b[0;34m\u001b[0m\u001b[0;34m\u001b[0m\u001b[0m\n\u001b[1;32m     95\u001b[0m \u001b[0;34m\u001b[0m\u001b[0m\n\u001b[0;32m---> 96\u001b[0;31m \u001b[0mprint\u001b[0m\u001b[0;34m(\u001b[0m\u001b[0;34m\"Los que viven: \"\u001b[0m\u001b[0;34m+\u001b[0m \u001b[0mstr\u001b[0m\u001b[0;34m(\u001b[0m\u001b[0mself\u001b[0m\u001b[0;34m.\u001b[0m\u001b[0mlife\u001b[0m\u001b[0;34m)\u001b[0m \u001b[0;34m+\u001b[0m\u001b[0;34m\"Los que mueren: \"\u001b[0m \u001b[0;34m+\u001b[0m \u001b[0mstr\u001b[0m\u001b[0;34m(\u001b[0m\u001b[0mself\u001b[0m\u001b[0;34m.\u001b[0m\u001b[0mdead\u001b[0m\u001b[0;34m)\u001b[0m\u001b[0;34m)\u001b[0m\u001b[0;34m\u001b[0m\u001b[0;34m\u001b[0m\u001b[0m\n\u001b[0m\u001b[1;32m     97\u001b[0m \u001b[0mself\u001b[0m\u001b[0;34m.\u001b[0m\u001b[0m__array\u001b[0m\u001b[0;34m=\u001b[0m\u001b[0mcopy\u001b[0m\u001b[0;34m.\u001b[0m\u001b[0mdeepcopy\u001b[0m\u001b[0;34m(\u001b[0m\u001b[0mgameaux\u001b[0m\u001b[0;34m)\u001b[0m\u001b[0;34m\u001b[0m\u001b[0;34m\u001b[0m\u001b[0m\n\u001b[1;32m     98\u001b[0m \u001b[0;34m\u001b[0m\u001b[0m\n",
            "\u001b[0;31mNameError\u001b[0m: name 'self' is not defined"
          ]
        }
      ]
    },
    {
      "cell_type": "code",
      "metadata": {
        "id": "0_Rt6i5oCsqS"
      },
      "source": [
        "array = Array2D(7,7,0)\n",
        "array.llenar([(1,2),(2,1),(2,2),(2,3)])\n",
        "array.imprime_grid()\n",
        "print(\"PRIMERA GENERACIÓN\")\n",
        "print(\"\")\n",
        "\n",
        "gen = 2 \n",
        "while array.life > 0 or array.dead >0:\n",
        "  array.test()\n",
        "  array.imprime_grid()\n",
        "  print(\"GENERACION\"+str(gen))\n",
        "  print(\"\")\n",
        "  gen += 1 \n"
      ],
      "execution_count": null,
      "outputs": []
    }
  ]
}